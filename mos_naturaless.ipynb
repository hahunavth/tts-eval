{
 "cells": [
  {
   "cell_type": "code",
   "execution_count": 25,
   "metadata": {},
   "outputs": [
    {
     "name": "stdout",
     "output_type": "stream",
     "text": [
      "/kaggle/repo/output/infer/vlsp2023emo/11_26_adapt_frozen_emo_enc_only/\n",
      "/kaggle/repo/output/infer/vlsp2023emo/11_28_adapt_freeze_emo_end_mfa/\n",
      "/kaggle/repo/output/infer/vlsp2023emo/11_29_emofs2mas_fixed/\n",
      "/kaggle/repo/output/infer/vlsp2023emo/12-01-freeze-all-enc/\n",
      "/kaggle/repo/output/infer/vlsp2023emo/12-01-freeze-all-enc-GiangOi2/\n",
      "/kaggle/repo/output/infer/vlsp2023emo/12-01-freeze-emo_enc+mha+text_enc/\n",
      "/kaggle/repo/output/infer/vlsp2023emo/12-05-EXP14-emofs2+shuffle_ref_mel+with_aug-120k/\n",
      "/kaggle/repo/output/infer/vlsp2023emo/12-05-EXP14-emofs2+shuffle_ref_mel+without_aug-120k/\n",
      "/kaggle/repo/output/infer/vlsp2023emo/12-05-EXP14-emofs2+shuffle_ref_mel+without_aug-60k/\n",
      "/kaggle/repo/output/infer/vlsp2023emo/12-05-EXP15-multi-speaker-baseline-50k/\n",
      "/kaggle/repo/output/infer/vlsp2023emo/12-07-EXP17_multi_speaker_move_emo_enc_819177ad-50k/\n",
      "/kaggle/repo/output/infer/vlsp2023emo/12-13-EXP15-multi-speaker-baseline-150k/\n",
      "/kaggle/repo/output/infer/vlsp2023emo/12-13-EXP17_multi_speaker_move_emo_enc_819177ad-150k/\n",
      "/kaggle/repo/output/infer/vlsp2023emo/GroundTruth2/\n"
     ]
    }
   ],
   "source": [
    "META_DIR=\"/kaggle/repo/output/infer/vlsp2023emo\"\n",
    "\n",
    "!ls $META_DIR/*/ -d"
   ]
  },
  {
   "cell_type": "code",
   "execution_count": 43,
   "metadata": {},
   "outputs": [
    {
     "data": {
      "text/plain": [
       "{'finetune+giangoi': '/kaggle/repo/output/infer/vlsp2023emo/12-01-freeze-all-enc-GiangOi2/',\n",
       " 'multi_spk+giangoi': '/kaggle/repo/output/infer/vlsp2023emo/12-13-EXP15-multi-speaker-baseline-150k/GiangOi2/',\n",
       " 'multi_spk+move_emo+giangoi': '/kaggle/repo/output/infer/vlsp2023emo/12-13-EXP17_multi_speaker_move_emo_enc_819177ad-150k/GiangOi2/'}"
      ]
     },
     "execution_count": 43,
     "metadata": {},
     "output_type": "execute_result"
    }
   ],
   "source": [
    "meta_dic = {\n",
    "    \"finetune+giangoi\": f\"{META_DIR}/12-01-freeze-all-enc-GiangOi2/\",\n",
    "    \"multi_spk+giangoi\": f\"{META_DIR}/12-13-EXP15-multi-speaker-baseline-150k/GiangOi2/\",\n",
    "    \"multi_spk+move_emo+giangoi\": f\"{META_DIR}/12-13-EXP17_multi_speaker_move_emo_enc_819177ad-150k/GiangOi2/\",\n",
    "    # \"\"\n",
    "}\n",
    "meta_dic"
   ]
  },
  {
   "cell_type": "code",
   "execution_count": 41,
   "metadata": {},
   "outputs": [
    {
     "data": {
      "text/html": [
       "<div>\n",
       "<style scoped>\n",
       "    .dataframe tbody tr th:only-of-type {\n",
       "        vertical-align: middle;\n",
       "    }\n",
       "\n",
       "    .dataframe tbody tr th {\n",
       "        vertical-align: top;\n",
       "    }\n",
       "\n",
       "    .dataframe thead th {\n",
       "        text-align: right;\n",
       "    }\n",
       "</style>\n",
       "<table border=\"1\" class=\"dataframe\">\n",
       "  <thead>\n",
       "    <tr style=\"text-align: right;\">\n",
       "      <th></th>\n",
       "      <th>fid</th>\n",
       "      <th>femo</th>\n",
       "      <th>fspk</th>\n",
       "      <th>fpath</th>\n",
       "    </tr>\n",
       "  </thead>\n",
       "  <tbody>\n",
       "    <tr>\n",
       "      <th>0</th>\n",
       "      <td>emo_val_001120</td>\n",
       "      <td>angry</td>\n",
       "      <td>GIANGOI</td>\n",
       "      <td>/kaggle/repo/output/infer/vlsp2023emo/12-01-fr...</td>\n",
       "    </tr>\n",
       "    <tr>\n",
       "      <th>1</th>\n",
       "      <td>emo_val_001120</td>\n",
       "      <td>happy</td>\n",
       "      <td>GIANGOI</td>\n",
       "      <td>/kaggle/repo/output/infer/vlsp2023emo/12-01-fr...</td>\n",
       "    </tr>\n",
       "    <tr>\n",
       "      <th>2</th>\n",
       "      <td>emo_val_001120</td>\n",
       "      <td>neutral</td>\n",
       "      <td>GIANGOI</td>\n",
       "      <td>/kaggle/repo/output/infer/vlsp2023emo/12-01-fr...</td>\n",
       "    </tr>\n",
       "    <tr>\n",
       "      <th>3</th>\n",
       "      <td>emo_val_001120</td>\n",
       "      <td>sad</td>\n",
       "      <td>GIANGOI</td>\n",
       "      <td>/kaggle/repo/output/infer/vlsp2023emo/12-01-fr...</td>\n",
       "    </tr>\n",
       "    <tr>\n",
       "      <th>4</th>\n",
       "      <td>emo_val_001120</td>\n",
       "      <td>surprise</td>\n",
       "      <td>GIANGOI</td>\n",
       "      <td>/kaggle/repo/output/infer/vlsp2023emo/12-01-fr...</td>\n",
       "    </tr>\n",
       "  </tbody>\n",
       "</table>\n",
       "</div>"
      ],
      "text/plain": [
       "              fid      femo     fspk  \\\n",
       "0  emo_val_001120     angry  GIANGOI   \n",
       "1  emo_val_001120     happy  GIANGOI   \n",
       "2  emo_val_001120   neutral  GIANGOI   \n",
       "3  emo_val_001120       sad  GIANGOI   \n",
       "4  emo_val_001120  surprise  GIANGOI   \n",
       "\n",
       "                                               fpath  \n",
       "0  /kaggle/repo/output/infer/vlsp2023emo/12-01-fr...  \n",
       "1  /kaggle/repo/output/infer/vlsp2023emo/12-01-fr...  \n",
       "2  /kaggle/repo/output/infer/vlsp2023emo/12-01-fr...  \n",
       "3  /kaggle/repo/output/infer/vlsp2023emo/12-01-fr...  \n",
       "4  /kaggle/repo/output/infer/vlsp2023emo/12-01-fr...  "
      ]
     },
     "execution_count": 41,
     "metadata": {},
     "output_type": "execute_result"
    }
   ],
   "source": [
    "import os\n",
    "import pandas as pd\n",
    "\n",
    "def get_files(directory, meta_name=\"finetune+giangoi\"):\n",
    "    spk_name = meta_name.split(\"+\")[-1].upper()\n",
    "    assert spk_name in [\"GIANGOI\", \"LMH\", \"TTH\"]\n",
    "    \n",
    "    files = os.listdir(directory)\n",
    "    fpaths = [os.path.join(directory, f) for f in files]\n",
    "    names = [f.split(\".\")[0].split('-') for f in files]\n",
    "    fids = [n[0] for n in names]\n",
    "    femo = [n[2] for n in names]\n",
    "    df = pd.DataFrame({\"fid\": fids, \"femo\": femo})\n",
    "    df['fspk'] = spk_name\n",
    "    df['fpath'] = fpaths\n",
    "    \n",
    "    return df\n",
    "\n",
    "df = get_files(meta_dic[\"finetune+giangoi\"])\n",
    "df.head()"
   ]
  },
  {
   "cell_type": "code",
   "execution_count": 112,
   "metadata": {},
   "outputs": [
    {
     "name": "stdout",
     "output_type": "stream",
     "text": [
      "Args: \n",
      "\tTitle: mos_naturalness_finetune_vs_multi_spk\n",
      "\tExperiments dirs: \n",
      "\t\tfinetune+giangoi: /kaggle/repo/output/infer/vlsp2023emo/12-01-freeze-all-enc-GiangOi2/\n",
      "\t\tmulti_spk+giangoi: /kaggle/repo/output/infer/vlsp2023emo/12-13-EXP15-multi-speaker-baseline-150k/GiangOi2/\n",
      "\t\tmulti_spk+move_emo+giangoi: /kaggle/repo/output/infer/vlsp2023emo/12-13-EXP17_multi_speaker_move_emo_enc_819177ad-150k/GiangOi2/\n",
      "\tClean: True\n",
      "\tMax file per exp: 9\n"
     ]
    }
   ],
   "source": [
    "from types import SimpleNamespace\n",
    "\n",
    "\n",
    "audio_dirs = []\n",
    "for meta_name, directory in meta_dic.items():\n",
    "    audio_dirs.append((meta_name, directory))\n",
    "\n",
    "args = SimpleNamespace(\n",
    "    title=\"mos_naturalness_finetune_vs_multi_spk\",\n",
    "    audio_dirs=audio_dirs,\n",
    "    clean=True,\n",
    "    max_file_per_exp=9,\n",
    ")\n",
    "\n",
    "print(\"Args: \")\n",
    "print(f\"\\tTitle: {args.title}\")\n",
    "print(\"\\tExperiments dirs: \")\n",
    "for idx, d in enumerate(args.audio_dirs):\n",
    "    print(f\"\\t\\t{d[0]}: {d[1]}\")\n",
    "print(f\"\\tClean: {args.clean}\")\n",
    "print(f\"\\tMax file per exp: {args.max_file_per_exp}\")"
   ]
  },
  {
   "cell_type": "code",
   "execution_count": 190,
   "metadata": {},
   "outputs": [
    {
     "data": {
      "text/plain": [
       "3"
      ]
     },
     "execution_count": 190,
     "metadata": {},
     "output_type": "execute_result"
    }
   ],
   "source": []
  },
  {
   "cell_type": "code",
   "execution_count": 113,
   "metadata": {},
   "outputs": [
    {
     "name": "stdout",
     "output_type": "stream",
     "text": [
      "Clean wavs folder!\n",
      "Audio dirs: \n",
      "\tExperiment: finetune+giangoi: 50 files\n",
      "\tExperiment: multi_spk+giangoi: 50 files\n",
      "\tExperiment: multi_spk+move_emo+giangoi: 50 files\n"
     ]
    }
   ],
   "source": [
    "import os\n",
    "import shutil\n",
    "import argparse\n",
    "import random\n",
    "import json\n",
    "from itertools import chain\n",
    "\n",
    "\n",
    "out_audio_dir = \"./wavs\"\n",
    "out_cfg_dir = \"./configs\"\n",
    "max_file_per_exp=args.max_file_per_exp\n",
    "symmetry = True\n",
    "\n",
    "exp_dic = {e[0]: e[1] for e in args.audio_dirs}\n",
    "assert len(exp_dic.keys()) == len(args.audio_dirs), \"Experiment name must be unique!\"\n",
    "\n",
    "if args.clean and os.path.exists(out_audio_dir):\n",
    "    print(\"Clean wavs folder!\")\n",
    "    shutil.rmtree(out_audio_dir)\n",
    "\n",
    "os.makedirs(out_audio_dir, exist_ok=True)\n",
    "\n",
    "print(\"Audio dirs: \")\n",
    "n_files = None\n",
    "for idx, exp_name in enumerate(exp_dic):\n",
    "    d = exp_dic[exp_name]\n",
    "    files = os.listdir(d)\n",
    "    files = [f for f in files if f.endswith(\".wav\")]\n",
    "    assert len(files) != 0, d + \" does not contain .wav files!\" \n",
    "    assert not n_files or len(files) == n_files\n",
    "    if symmetry:\n",
    "        n_files = len(files)\n",
    "    print(f\"\\tExperiment: {exp_name}: {len(files)} files\")\n"
   ]
  },
  {
   "cell_type": "code",
   "execution_count": 120,
   "metadata": {},
   "outputs": [
    {
     "data": {
      "text/plain": [
       "[1, 2, 3, 4, 5, 6, 7, 8, 9]"
      ]
     },
     "execution_count": 120,
     "metadata": {},
     "output_type": "execute_result"
    }
   ],
   "source": [
    "selected = range(1, n_files)\n",
    "n_emo = 5\n",
    "n_text = int(len(selected) / n_emo)\n",
    "text_range = list(range(1, n_text+1))\n",
    "\n",
    "text_range"
   ]
  },
  {
   "cell_type": "code",
   "execution_count": 193,
   "metadata": {},
   "outputs": [
    {
     "data": {
      "text/plain": [
       "[3, 6, 10, 19, 21, 29, 34, 37, 40]"
      ]
     },
     "execution_count": 193,
     "metadata": {},
     "output_type": "execute_result"
    }
   ],
   "source": [
    "if symmetry and max_file_per_exp < n_files:\n",
    "    # selected = random.sample(text_range, max_file_per_exp)\n",
    "    # selected = sorted(selected)\n",
    "    selected = [i*n_emo+random.randint(0, n_emo-1) for i in range(0, n_text)]\n",
    "qids = list(range(1, len(args.audio_dirs)*len(selected)+1))\n",
    "random.shuffle(qids)\n",
    "selected"
   ]
  },
  {
   "cell_type": "code",
   "execution_count": 197,
   "metadata": {},
   "outputs": [
    {
     "name": "stdout",
     "output_type": "stream",
     "text": [
      "Copying...\n"
     ]
    }
   ],
   "source": [
    "print(\"Copying...\")\n",
    "selected_dic = {}\n",
    "for d_idx, exp_name in enumerate(exp_dic):\n",
    "    d = exp_dic[exp_name]\n",
    "    files = os.listdir(d)\n",
    "    for flid, fid in enumerate(selected):\n",
    "        if flid == 0 and not os.path.exists(os.path.join(out_audio_dir, exp_name)):\n",
    "            os.makedirs(os.path.join(out_audio_dir, exp_name), exist_ok=True)\n",
    "        f = files[fid]\n",
    "        if exp_name not in selected_dic:\n",
    "            selected_dic[exp_name] = []\n",
    "        new_fname = f\"{exp_name}/{f}\"\n",
    "        selected_dic[exp_name].append({\n",
    "            \"_new_fpath\": new_fname,\n",
    "            \"fname\": f,\n",
    "            \"fid\": fid,\n",
    "            \"qid\": f\"q{qids[d_idx * len(selected) + flid]}\",\n",
    "        })\n",
    "        shutil.copyfile(os.path.join(d, f), os.path.join(out_audio_dir, new_fname))\n"
   ]
  },
  {
   "cell_type": "code",
   "execution_count": 198,
   "metadata": {},
   "outputs": [
    {
     "name": "stdout",
     "output_type": "stream",
     "text": [
      "Create config\n",
      "Id:  9\n",
      "N question:  27\n",
      "Done!\n"
     ]
    }
   ],
   "source": [
    "\n",
    "print(\"Create config\")\n",
    "try:\n",
    "    last_form_id = len(os.listdir(out_cfg_dir))\n",
    "except Exception:\n",
    "    last_form_id = 1\n",
    "form_id = last_form_id+1\n",
    "out_cfg = {\n",
    "    \"page_title\": args.title, \n",
    "    \"form_id\": form_id, \n",
    "    \"questions\": [],\n",
    "    \"_meta\": {\n",
    "        \"max_file_per_exp\": max_file_per_exp,\n",
    "        \"symmetry\": symmetry,\n",
    "        \"experiments\": exp_dic,\n",
    "        \"selected_dic\": selected_dic\n",
    "    }\n",
    "}\n",
    "for idx, dic in enumerate(sorted(list(chain.from_iterable(selected_dic.values())), key=lambda d: int(d['qid'].replace(\"q\", \"\")))):\n",
    "    audio = dic['_new_fpath']\n",
    "    del dic['_new_fpath']\n",
    "    dic = {k: v for k, v in dic.items() if k != \"_new_fpath\"}\n",
    "    name = dic['qid']\n",
    "    audio_path = os.path.join(out_audio_dir, audio)\n",
    "    title = f\"Câu hỏi {idx+1}\"\n",
    "    out_cfg['questions'].append({\n",
    "        \"name\": name,\n",
    "        \"audio_path\": audio_path,\n",
    "        \"title\": title\n",
    "    })\n",
    "\n",
    "print(\"Id: \", out_cfg['form_id'])\n",
    "print(\"N question: \", len(out_cfg[\"questions\"]))\n",
    "\n",
    "os.makedirs(out_cfg_dir, exist_ok=True)\n",
    "with open(os.path.join(out_cfg_dir, f\"{form_id}.json\"), \"w\") as f:\n",
    "    f.write(json.dumps(out_cfg, indent=4))\n",
    "\n",
    "print(\"Done!\")"
   ]
  },
  {
   "cell_type": "code",
   "execution_count": 62,
   "metadata": {},
   "outputs": [
    {
     "name": "stdout",
     "output_type": "stream",
     "text": [
      "Args: \n",
      "\tTitle: mos_naturalness_finetune_vs_multi_spk\n",
      "\tExperiments dirs: \n",
      "\t\tfinetune+giangoi: /kaggle/repo/output/infer/vlsp2023emo/12-01-freeze-all-enc-GiangOi2/\n",
      "\t\tmulti_spk+giangoi: /kaggle/repo/output/infer/vlsp2023emo/12-13-EXP15-multi-speaker-baseline-150k/GiangOi2\n",
      "\t\tmulti_spk+move_emo+giangoi: /kaggle/repo/output/infer/vlsp2023emo/12-13-EXP17_multi_speaker_move_emo_enc_819177ad-150k/GiangOi2\n",
      "\tClean: True\n",
      "\tMax file per exp: 10\n",
      "\n",
      "Creating...\n",
      "Clean wavs folder!\n",
      "Audio dirs: \n",
      "\tExperiment: finetune+giangoi: 50 files\n",
      "\tExperiment: multi_spk+giangoi: 50 files\n",
      "\tExperiment: multi_spk+move_emo+giangoi: 50 files\n",
      "Copying...\n",
      "Traceback (most recent call last):\n",
      "  File \"/home/kryo/Desktop/tts-eval/create_mos_config.py\", line 78, in <module>\n",
      "    \"qid\": f\"q{qids[d_idx * len(selected) + flid]}\",\n",
      "IndexError: list index out of range\n"
     ]
    }
   ],
   "source": [
    "# # mos test natualness\n",
    "\n",
    "# !python create_mos_config.py \\\n",
    "#     -a \"finetune+giangoi\" \"/kaggle/repo/output/infer/vlsp2023emo/12-01-freeze-all-enc-GiangOi2/\" \\\n",
    "#     -a \"multi_spk+giangoi\" \"/kaggle/repo/output/infer/vlsp2023emo/12-13-EXP15-multi-speaker-baseline-150k/GiangOi2\" \\\n",
    "#     -a \"multi_spk+move_emo+giangoi\" \"/kaggle/repo/output/infer/vlsp2023emo/12-13-EXP17_multi_speaker_move_emo_enc_819177ad-150k/GiangOi2\" \\\n",
    "#     -c -t \"mos_naturalness_finetune_vs_multi_spk\" -m 10"
   ]
  }
 ],
 "metadata": {
  "kernelspec": {
   "display_name": "py310",
   "language": "python",
   "name": "python3"
  },
  "language_info": {
   "codemirror_mode": {
    "name": "ipython",
    "version": 3
   },
   "file_extension": ".py",
   "mimetype": "text/x-python",
   "name": "python",
   "nbconvert_exporter": "python",
   "pygments_lexer": "ipython3",
   "version": "3.10.13"
  }
 },
 "nbformat": 4,
 "nbformat_minor": 2
}
